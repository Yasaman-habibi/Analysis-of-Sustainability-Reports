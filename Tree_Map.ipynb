{
  "nbformat": 4,
  "nbformat_minor": 0,
  "metadata": {
    "colab": {
      "provenance": [],
      "authorship_tag": "ABX9TyP7qL1inn/ziOmoKPL01dOk",
      "include_colab_link": true
    },
    "kernelspec": {
      "name": "python3",
      "display_name": "Python 3"
    },
    "language_info": {
      "name": "python"
    }
  },
  "cells": [
    {
      "cell_type": "markdown",
      "metadata": {
        "id": "view-in-github",
        "colab_type": "text"
      },
      "source": [
        "<a href=\"https://colab.research.google.com/github/Yasaman-habibi/Pre_Processing_Report/blob/main/Tree_Map.ipynb\" target=\"_parent\"><img src=\"https://colab.research.google.com/assets/colab-badge.svg\" alt=\"Open In Colab\"/></a>"
      ]
    },
    {
      "cell_type": "code",
      "execution_count": null,
      "metadata": {
        "id": "rNpQNlNE5S1J"
      },
      "outputs": [],
      "source": [
        "#Import Library\n",
        "\n",
        "import os\n",
        "import re\n",
        "import nltk\n",
        "import glob\n",
        "import pandas as pd\n",
        "import matplotlib.pyplot as plt\n",
        "from google.colab import drive, files\n",
        "from google.colab import drive\n",
        "import ipywidgets as widgets\n",
        "import seaborn as sns\n",
        "import numpy as np\n",
        "from wordcloud import WordCloud\n",
        "import plotly.express as px\n"
      ]
    },
    {
      "cell_type": "code",
      "source": [
        "#Upload Files\n",
        "\n",
        "drive.mount('/content/drive')\n",
        "source_path = \"/content/drive/MyDrive/Combined_Texts\"\n",
        "all_txt_files = glob.glob(os.path.join(source_path, \"*.txt\"))\n",
        "\n",
        "selector = widgets.SelectMultiple(\n",
        "    options=all_txt_files,\n",
        "    description='Select files',\n",
        "    rows=10\n",
        ")\n",
        "display(selector)"
      ],
      "metadata": {
        "id": "W7zFMJWZ5TdB"
      },
      "execution_count": null,
      "outputs": []
    },
    {
      "cell_type": "code",
      "source": [
        "uploaded_Texts = list(selector.value)\n",
        "print(\" انتخاب شد:\\n\" + \"\\n\".join(uploaded_Texts))"
      ],
      "metadata": {
        "collapsed": true,
        "id": "RUPO0qFK5U-Z"
      },
      "execution_count": null,
      "outputs": []
    },
    {
      "cell_type": "code",
      "source": [
        "#Percent of KeyWords On TreeMap\n",
        "\n",
        "import os\n",
        "import re\n",
        "import pandas as pd\n",
        "import plotly.express as px\n",
        "\n",
        "def process_treemap_tagged(uploaded_Texts, sustain_terms, Treemap_path):\n",
        "    records = []\n",
        "\n",
        "    sustain_terms = sorted(set([kw.strip().lower() for kw in sustain_terms]),\n",
        "                           key=lambda x: len(x.split()), reverse=True)\n",
        "\n",
        "    for file_path in uploaded_Texts:\n",
        "        with open(file_path, \"r\", encoding=\"utf-8\") as f:\n",
        "            content = f.read()\n",
        "\n",
        "        # Separate reports based on tags\n",
        "        pattern = r\"===== Start of File: (.+?) =====\\n(.*?)\\n===== End of File: \\1 =====\"\n",
        "        reports = re.findall(pattern, content, flags=re.DOTALL)\n",
        "\n",
        "        for report_name, report_text in reports:\n",
        "            text = report_text.lower()\n",
        "            counts = {}\n",
        "\n",
        "            for term in sustain_terms:\n",
        "                term_pattern = r\"\\b\" + re.escape(term) + r\"\\b\"\n",
        "                matches = list(re.finditer(term_pattern, text))\n",
        "                if matches:\n",
        "                    counts[term] = len(matches)\n",
        "                    text = re.sub(term_pattern, \" \" * len(term), text)\n",
        "\n",
        "            for kw, cnt in counts.items():\n",
        "                records.append({\"report_name\": report_name, \"keyword\": kw, \"count\": cnt})\n",
        "\n",
        "    # Create DataFrame\n",
        "    df = pd.DataFrame(records)\n",
        "    if df.empty:\n",
        "        print(\" هیچ کلیدواژه‌ای پیدا نشد.\")\n",
        "        return df\n",
        "\n",
        "    os.makedirs(Treemap_path, exist_ok=True)\n",
        "\n",
        "    # CalCulate Percent of KeyWords\n",
        "    all_counts = df.groupby(\"keyword\")[\"count\"].sum().reset_index()\n",
        "    total_count = all_counts[\"count\"].sum()\n",
        "    all_counts[\"percent\"] = (all_counts[\"count\"] / total_count * 100).round(2)\n",
        "    all_counts = all_counts[all_counts[\"percent\"] > 0]\n",
        "\n",
        "    # Create Treemap\n",
        "    fig_all = px.treemap(\n",
        "        all_counts,\n",
        "        path=[\"keyword\"],\n",
        "        values=\"percent\",\n",
        "        title=\"Treemap of All Reports (Percent)\",\n",
        "        color=\"percent\",\n",
        "        color_continuous_scale=\"tealrose\"\n",
        "    )\n",
        "    fig_all.update_traces(hovertemplate='<b>%{label}</b><br>Percent: %{value}%<extra></extra>')\n",
        "\n",
        "    # Save HTML\n",
        "    fig_all.write_html(os.path.join(Treemap_path, \"treemap_all_reports.html\"))\n",
        "    fig_all.show()\n",
        "\n",
        "    # TreeMap based on Year by year\n",
        "    df[\"Year\"] = df[\"report_name\"].str.extract(r\"(\\d{4})\")\n",
        "    df[\"Year\"] = df[\"Year\"].fillna(\"Unknown\")\n",
        "\n",
        "    for year, sub_df in df.groupby(\"Year\"):\n",
        "        year_counts = sub_df.groupby(\"keyword\")[\"count\"].sum().reset_index()\n",
        "        total_year = year_counts[\"count\"].sum()\n",
        "        year_counts[\"percent\"] = (year_counts[\"count\"] / total_year * 100).round(2)\n",
        "        year_counts = year_counts[year_counts[\"percent\"] > 0]\n",
        "\n",
        "        if not year_counts.empty:\n",
        "            fig_year = px.treemap(\n",
        "                year_counts,\n",
        "                path=[\"keyword\"],\n",
        "                values=\"percent\",\n",
        "                title=f\"Treemap for Year {year} (Percent)\",\n",
        "                color=\"percent\",\n",
        "                color_continuous_scale=\"Mint\"\n",
        "            )\n",
        "            fig_year.update_traces(hovertemplate='<b>%{label}</b><br>Percent: %{value}%<extra></extra>')\n",
        "            fig_year.write_html(os.path.join(Treemap_path, f\"treemap_{year}.html\"))\n",
        "            fig_year.show()\n",
        "\n",
        "    print(\" Treemap کلی و سال به سال با درصد ساخته شد.\")\n",
        "    return df\n"
      ],
      "metadata": {
        "id": "MHsiAwdF5WjK"
      },
      "execution_count": null,
      "outputs": []
    },
    {
      "cell_type": "code",
      "source": [
        "sustain_Dic = pd.read_excel(\"/content/drive/MyDrive/sustainability_table/PivotReport/keywords.xlsx\")\n",
        "keywords = sustain_Dic[\"keyword\"].dropna().str.strip().tolist()\n",
        "\n",
        "Treemap_path = \"/content/drive/MyDrive/sustainability_table/treemaps\"\n",
        "os.makedirs(Treemap_path, exist_ok=True)"
      ],
      "metadata": {
        "id": "1Vyw1mpi5YNA"
      },
      "execution_count": null,
      "outputs": []
    },
    {
      "cell_type": "code",
      "source": [
        "df_result = process_treemap_tagged(uploaded_Texts, keywords, Treemap_path)"
      ],
      "metadata": {
        "collapsed": true,
        "id": "hUgzjf1a5ZtA"
      },
      "execution_count": null,
      "outputs": []
    }
  ]
}