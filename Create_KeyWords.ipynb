{
  "cells": [
    {
      "cell_type": "markdown",
      "metadata": {
        "id": "view-in-github",
        "colab_type": "text"
      },
      "source": [
        "<a href=\"https://colab.research.google.com/github/Yasaman-habibi/Pre_Processing_Report/blob/main/Create_KeyWords.ipynb\" target=\"_parent\"><img src=\"https://colab.research.google.com/assets/colab-badge.svg\" alt=\"Open In Colab\"/></a>"
      ]
    },
    {
      "cell_type": "code",
      "execution_count": null,
      "metadata": {
        "id": "uEjtTaENL7Ed"
      },
      "outputs": [],
      "source": [
        "#Import Library\n",
        "from google.colab import files, drive\n",
        "import matplotlib.pyplot as plt\n",
        "import pandas as pd\n",
        "import os\n",
        "import io\n",
        "import re"
      ]
    },
    {
      "cell_type": "code",
      "execution_count": null,
      "metadata": {
        "id": "bW0CG1o0AzPa",
        "collapsed": true
      },
      "outputs": [],
      "source": [
        "#Upload Files\n",
        "\n",
        "drive.mount('/content/drive')\n",
        "uploaded_Texts = files.upload()\n",
        "Combined_path = \"/content/drive/MyDrive/Combined_Texts\"\n",
        "os.makedirs(Combined_path, exist_ok=True)\n",
        "Combined_file = os.path.join(Combined_path, \"Combined_Texts.txt\")"
      ]
    },
    {
      "cell_type": "code",
      "execution_count": null,
      "metadata": {
        "collapsed": true,
        "id": "PLDcVFtAL1Yv"
      },
      "outputs": [],
      "source": [
        "#Upload Loughran-McDonald\n",
        "\n",
        "uploaded_Dic = files.upload()\n",
        "for filename in uploaded_Dic.keys():\n",
        "    df_dict = pd.read_excel(io.BytesIO(uploaded_Dic[filename]))\n",
        "\n",
        "Dic_path = \"/content/drive/MyDrive/sustainability_table\"\n",
        "os.makedirs(Dic_path, exist_ok=True)\n",
        "Dic_file = os.path.join(Dic_path, \"Loughran-McDonald.xlsx\")\n",
        "\n",
        "df_dict.to_excel(Dic_file, index=False)"
      ]
    },
    {
      "cell_type": "code",
      "execution_count": null,
      "metadata": {
        "id": "rGP0fFpNszBg"
      },
      "outputs": [],
      "source": [
        "#Create KeyWords\n",
        "keywords_path = \"/content/drive/MyDrive/sustainability_table\"\n",
        "os.makedirs(keywords_path, exist_ok=True)\n",
        "keywords_file = os.path.join(keywords_path, \"keywords.xlsx\")\n",
        "\n",
        "#List Of KeyWords\n",
        "default_keywords = [\n",
        "     \"Sustainable\" , \"Sustainability\" ,\n",
        "     \"Development\" , \"Warming\" , \"Resource\" ,\n",
        "     \"Environmental\" ,  \"governance\" , \"environment\",\n",
        "     \"climate\" , \"Recycling\" , \"Energy\",\n",
        "     \"Economic\" , \"Economy\" , \"Green\",\n",
        "     \"Social\" , \"Society\" , \"materials\" , \"Ecosystem\"\n",
        "     \"Carbon\", \"footprint\" , \"Pollutants \" ,\n",
        "     \"Natural\" , \"Earth\", \"Air\", \"biodiversity\",  \"Crisis\" ,\n",
        "      \"Atmospheric\" , \"Water\" , \"pollution\" ,\n",
        "     \"Drought\" , \"Famine\" , \"Decarbonization\" ,\n",
        "     \"Species\" , \"Demographic\" , \"Global\" ,\n",
        "      \"Waste\" , \"agriculture\" , \"innovation\",\n",
        "     ]\n",
        "\n",
        "updated_keywords_df = pd.DataFrame(sorted(set(default_keywords)), columns=[\"keyword\"])\n",
        "updated_keywords_df.to_excel(keywords_file, index=False)\n",
        "keywords = updated_keywords_df[\"keyword\"].str.lower().tolist()"
      ]
    },
    {
      "cell_type": "code",
      "execution_count": null,
      "metadata": {
        "collapsed": true,
        "id": "w2AYfT8VMgq4"
      },
      "outputs": [],
      "source": [
        "#Creating a set of sustainable words from the dictionary based on the keyword\n",
        "\n",
        "keywords_set = set(keywords)\n",
        "\n",
        "sustain_terms = set()\n",
        "for word in df_dict[\"Word\"]:\n",
        "    word_lower = str(word).strip().lower()\n",
        "    if word_lower in keywords_set:\n",
        "        sustain_terms.add(word_lower)\n",
        "\n",
        "print(f\"{len(sustain_terms)} sustainability-related terms extracted.\")\n",
        "\n",
        "sustain_Dic = df_dict[df_dict[\"Word\"].str.lower().isin(sustain_terms)]\n",
        "\n",
        "sustain_Dic_path = \"/content/drive/MyDrive/sustainability_table\"\n",
        "os.makedirs(sustain_Dic_path, exist_ok=True)\n",
        "sustain_Dic_file = os.path.join(sustain_Dic_path, \"sustain_Dic.xlsx\")\n",
        "\n",
        "sustain_Dic.to_excel(sustain_Dic_file, index=False)\n",
        "\n",
        "print(f\"Filtered Excel file saved to: {sustain_Dic_path}\")"
      ]
    }
  ],
  "metadata": {
    "colab": {
      "provenance": [],
      "authorship_tag": "ABX9TyPXAUvIZk51/aPxBZ9T84UQ",
      "include_colab_link": true
    },
    "kernelspec": {
      "display_name": "Python 3",
      "name": "python3"
    },
    "language_info": {
      "name": "python"
    }
  },
  "nbformat": 4,
  "nbformat_minor": 0
}