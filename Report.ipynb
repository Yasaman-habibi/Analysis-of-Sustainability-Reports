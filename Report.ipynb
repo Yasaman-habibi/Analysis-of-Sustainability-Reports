{
  "nbformat": 4,
  "nbformat_minor": 0,
  "metadata": {
    "colab": {
      "provenance": [],
      "authorship_tag": "ABX9TyM0D8NeAG35R/iU7f2U8Cah",
      "include_colab_link": true
    },
    "kernelspec": {
      "name": "python3",
      "display_name": "Python 3"
    },
    "language_info": {
      "name": "python"
    }
  },
  "cells": [
    {
      "cell_type": "markdown",
      "metadata": {
        "id": "view-in-github",
        "colab_type": "text"
      },
      "source": [
        "<a href=\"https://colab.research.google.com/github/Yasaman-habibi/Pre_Processing_Report/blob/main/Report.ipynb\" target=\"_parent\"><img src=\"https://colab.research.google.com/assets/colab-badge.svg\" alt=\"Open In Colab\"/></a>"
      ]
    },
    {
      "cell_type": "code",
      "execution_count": null,
      "metadata": {
        "id": "DycGpJJ-THgn"
      },
      "outputs": [],
      "source": [
        "#Import Library\n",
        "import os\n",
        "import re\n",
        "import nltk\n",
        "import glob\n",
        "import pandas as pd\n",
        "from time import sleep\n",
        "import matplotlib.pyplot as plt\n",
        "from google.colab import drive, files\n",
        "from google.colab import drive\n",
        "import ipywidgets as widgets\n",
        "import seaborn as sns\n",
        "import numpy as np"
      ]
    },
    {
      "cell_type": "code",
      "source": [
        "#Upload Files\n",
        "\n",
        "drive.mount('/content/drive')\n",
        "source_path = \"/content/drive/MyDrive/Combined_Texts\"\n",
        "all_txt_files = glob.glob(os.path.join(source_path, \"*.txt\"))\n",
        "\n",
        "selector = widgets.SelectMultiple(\n",
        "    options=all_txt_files,\n",
        "    description='Select files',\n",
        "    rows=10\n",
        ")\n",
        "display(selector)"
      ],
      "metadata": {
        "id": "KDuIZmsxTIJ5"
      },
      "execution_count": null,
      "outputs": []
    },
    {
      "cell_type": "code",
      "source": [
        "uploaded_Texts = list(selector.value)"
      ],
      "metadata": {
        "id": "_ZXl2zrnTdMt"
      },
      "execution_count": null,
      "outputs": []
    },
    {
      "cell_type": "code",
      "source": [
        "Cleaned_path = \"/content/drive/MyDrive/sustainability_table/PivotReport\"\n",
        "os.makedirs(Cleaned_path, exist_ok=True)\n",
        "print(\" انتخاب شد:\\n\" + \"\\n\".join(uploaded_Texts))"
      ],
      "metadata": {
        "collapsed": true,
        "id": "QGHwGVmuTw7I"
      },
      "execution_count": null,
      "outputs": []
    },
    {
      "cell_type": "code",
      "source": [
        "keywords_path = \"/content/drive/MyDrive/sustainability_table/PivotReport\"\n",
        "os.makedirs(keywords_path, exist_ok=True)\n",
        "keywords_file = os.path.join(keywords_path, \"keywords.xlsx\")\n",
        "\n",
        "# KeyWords for Report\n",
        "default_keywords = [\n",
        "     \"Sustainable\" , \"Sustainability\" , \"Sustainable finance\" , \"Sustainable innovation\" , \"Sustainable agriculture\" ,\n",
        "     \"Sustainable materials\" ,  \"Sustainable supply chain\" , \"Sustainable development\" ,\n",
        "     \"SDGs\" , \"ESG\", \"Non-Financial\" , \"Development\" ,\n",
        "     \"Environmental\" ,  \"Environmental, social, and governance\" , \"Environmental protection\", \"Environmental impact\" , \"environment\",\n",
        "     \"climate\" , \"Climate mitigation\" , \"Climate change\" ,\n",
        "     \"Economic\" , \"Economic sustainability\" , \"Economy\" , \"Circular economy\" , \"Green economy\" , \"Green technology\" ,\n",
        "     \"Social\" , \"Society\" , \"Corporate social responsibility\" ,\"CSR\" ,\n",
        "     \"Carbon footprint\", \"Carbon emissions\" ,  \"Pollutants \" ,  \"Greenhouse Gas Emissions\" ,  \"Decarbonization\" ,\n",
        "     \"Renewable energy\" , \"Clean energy\" , \"Energy efficiency\" , \"Recycling\" , \"Demographic changes\" ,\n",
        "     \"Waste management\" , \"Zero waste\" , \"Natural Resources\" , \"Resource management\" ,\n",
        "     \"Earth\", \"Air\", \"biodiversity\",  \"Crisis\" ,  \"Atmospheric\" , \"Water\" , \"pollution\" , \"Pollution reduction\" ,\n",
        "     \"Drought\" , \"Famine\" ,  \"Water conservation\" ,\n",
        "     \"Ground Warming\" , \"Global Warming\" , \"Species extinction\" , \"Ecosystem preservation\" ,\n",
        "     \"Future Needs\" ,  \"Life cycle assessment\" , \"Eco-friendly\" , \"Responsible consumption\" , \"Human rights\" ,\n",
        "     \"Better life\",\n",
        "]\n",
        "updated_keywords_df = pd.DataFrame(sorted(set(default_keywords)), columns=[\"keyword\"])\n",
        "updated_keywords_df.to_excel(keywords_file, index=False)\n",
        "keywords = updated_keywords_df[\"keyword\"].str.lower().tolist()"
      ],
      "metadata": {
        "id": "MlTCBKRkTf9s"
      },
      "execution_count": null,
      "outputs": []
    },
    {
      "cell_type": "code",
      "source": [
        "#Function\n",
        "\n",
        "def process_reports_tagged(uploaded_Texts, sustain_terms, report_path):\n",
        "    records = []\n",
        "\n",
        "    sustain_terms = sorted(set([kw.strip().lower() for kw in sustain_terms]),\n",
        "                           key=lambda x: len(x.split()), reverse=True)\n",
        "\n",
        "    for file_path in uploaded_Texts:\n",
        "        with open(file_path, \"r\", encoding=\"utf-8\") as f:\n",
        "            content = f.read()\n",
        "\n",
        "        pattern = r\"===== Start of File: (.+?) =====\\n(.*?)\\n===== End of File: \\1 =====\"\n",
        "        reports = re.findall(pattern, content, flags=re.DOTALL)\n",
        "\n",
        "        for report_name, report_text in reports:\n",
        "            text = report_text.lower()\n",
        "            counts = {}\n",
        "\n",
        "            for term in sustain_terms:\n",
        "                term_pattern = r\"\\b\" + re.escape(term) + r\"\\b\"\n",
        "                matches = list(re.finditer(term_pattern, text))\n",
        "                if matches:\n",
        "                    counts[term] = len(matches)\n",
        "                    text = re.sub(term_pattern, \" \" * len(term), text)\n",
        "\n",
        "            for kw, cnt in counts.items():\n",
        "                records.append({\"report_name\": report_name, \"keyword\": kw, \"count\": cnt})\n",
        "\n",
        "    # Create DataFrame\n",
        "    new_df = pd.DataFrame(records)\n",
        "\n",
        "    if os.path.exists(report_path):\n",
        "        old_df = pd.read_excel(report_path)\n",
        "        combined_df = pd.concat([old_df, new_df], ignore_index=True)\n",
        "    else:\n",
        "        combined_df = new_df\n",
        "\n",
        "    # Remove duplicate\n",
        "    combined_df[\"report_name\"] = combined_df[\"report_name\"].str.replace(r\"\\s*\\(\\d+\\)$\", \"\", regex=True)\n",
        "    combined_df = combined_df.drop_duplicates()\n",
        "\n",
        "\n",
        "    # Pivot Table\n",
        "    pivot_df = combined_df.pivot_table(\n",
        "        index=\"report_name\",\n",
        "        columns=\"keyword\",\n",
        "        values=\"count\",\n",
        "        aggfunc=\"sum\",\n",
        "        fill_value=0\n",
        "    )\n",
        "\n",
        "    pivot_df.columns = pivot_df.columns.astype(str)\n",
        "    pivot_df = pivot_df[sorted(pivot_df.columns)]\n",
        "\n",
        "    pivot_df.to_excel(report_path)\n",
        "    print(f\" گزارش pivot ذخیره شد در: {report_path}\")\n",
        "    return pivot_df"
      ],
      "metadata": {
        "id": "T49OU0zxT7yK"
      },
      "execution_count": null,
      "outputs": []
    },
    {
      "cell_type": "code",
      "source": [
        "sustain_Dic = pd.read_excel(\"/content/drive/MyDrive/sustainability_table/PivotReport/keywords.xlsx\")\n",
        "keywords = sustain_Dic[\"keyword\"].dropna().str.strip().tolist()\n",
        "\n",
        "report_path = \"/content/drive/MyDrive/sustainability_table/PivotReport/report_pivot.xlsx\""
      ],
      "metadata": {
        "collapsed": true,
        "id": "WfuHGBbNT_ix"
      },
      "execution_count": null,
      "outputs": []
    },
    {
      "cell_type": "code",
      "source": [
        "pivot_df = process_reports_tagged(uploaded_Texts, keywords, report_path)\n",
        "\n",
        "pivot_df"
      ],
      "metadata": {
        "id": "wZIX_PfwxSNW"
      },
      "execution_count": null,
      "outputs": []
    }
  ]
}