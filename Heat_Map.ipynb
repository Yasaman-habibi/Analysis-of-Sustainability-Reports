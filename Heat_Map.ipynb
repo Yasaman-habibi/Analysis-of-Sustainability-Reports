{
  "nbformat": 4,
  "nbformat_minor": 0,
  "metadata": {
    "colab": {
      "provenance": [],
      "authorship_tag": "ABX9TyP+LTN96c65FySROce9kzCz",
      "include_colab_link": true
    },
    "kernelspec": {
      "name": "python3",
      "display_name": "Python 3"
    },
    "language_info": {
      "name": "python"
    }
  },
  "cells": [
    {
      "cell_type": "markdown",
      "metadata": {
        "id": "view-in-github",
        "colab_type": "text"
      },
      "source": [
        "<a href=\"https://colab.research.google.com/github/Yasaman-habibi/Pre_Processing_Report/blob/main/Heat_Map.ipynb\" target=\"_parent\"><img src=\"https://colab.research.google.com/assets/colab-badge.svg\" alt=\"Open In Colab\"/></a>"
      ]
    },
    {
      "cell_type": "code",
      "execution_count": 1,
      "metadata": {
        "id": "rNpQNlNE5S1J"
      },
      "outputs": [],
      "source": [
        "#Import Library\n",
        "\n",
        "import os\n",
        "import re\n",
        "import nltk\n",
        "import glob\n",
        "import pandas as pd\n",
        "import matplotlib.pyplot as plt\n",
        "from google.colab import drive, files\n",
        "from google.colab import drive\n",
        "import ipywidgets as widgets\n",
        "import seaborn as sns\n",
        "import numpy as np\n",
        "import plotly.express as px"
      ]
    },
    {
      "cell_type": "code",
      "source": [
        "#Upload Files\n",
        "\n",
        "drive.mount('/content/drive')\n",
        "source_path = \"/content/drive/MyDrive/Combined_Texts\"\n",
        "all_txt_files = glob.glob(os.path.join(source_path, \"*.txt\"))\n",
        "\n",
        "selector = widgets.SelectMultiple(\n",
        "    options=all_txt_files,\n",
        "    description='Select files',\n",
        "    rows=10\n",
        ")\n",
        "display(selector)"
      ],
      "metadata": {
        "id": "W7zFMJWZ5TdB"
      },
      "execution_count": null,
      "outputs": []
    },
    {
      "cell_type": "code",
      "source": [
        "uploaded_Texts = list(selector.value)\n",
        "print(\" انتخاب شد:\\n\" + \"\\n\".join(uploaded_Texts))"
      ],
      "metadata": {
        "collapsed": true,
        "id": "RUPO0qFK5U-Z"
      },
      "execution_count": null,
      "outputs": []
    },
    {
      "cell_type": "code",
      "source": [
        "# Heatmap with Percent\n",
        "\n",
        "import os\n",
        "import re\n",
        "import pandas as pd\n",
        "import plotly.express as px\n",
        "\n",
        "def process_heatmap_tagged(uploaded_Texts, sustain_terms, Heatmap_path):\n",
        "    records = []\n",
        "\n",
        "    sustain_terms = sorted(set([kw.strip().lower() for kw in sustain_terms]),\n",
        "                           key=lambda x: len(x.split()), reverse=True)\n",
        "\n",
        "    for file_path in uploaded_Texts:\n",
        "        with open(file_path, \"r\", encoding=\"utf-8\") as f:\n",
        "            content = f.read()\n",
        "\n",
        "        pattern = r\"===== Start of File: (.+?) =====\\n(.*?)\\n===== End of File: \\1 =====\"\n",
        "        reports = re.findall(pattern, content, flags=re.DOTALL)\n",
        "\n",
        "        for report_name, report_text in reports:\n",
        "            text = report_text.lower()\n",
        "            counts = {}\n",
        "\n",
        "            for term in sustain_terms:\n",
        "                term_pattern = r\"\\b\" + re.escape(term) + r\"\\b\"\n",
        "                matches = list(re.finditer(term_pattern, text))\n",
        "                if matches:\n",
        "                    counts[term] = len(matches)\n",
        "                    text = re.sub(term_pattern, \" \" * len(term), text)\n",
        "\n",
        "            for kw, cnt in counts.items():\n",
        "                records.append({\"report_name\": report_name, \"keyword\": kw, \"count\": cnt})\n",
        "\n",
        "    # Create DataFrame\n",
        "    df = pd.DataFrame(records)\n",
        "    if df.empty:\n",
        "        print(\" هیچ کلیدواژه‌ای پیدا نشد.\")\n",
        "        return df\n",
        "\n",
        "    os.makedirs(Heatmap_path, exist_ok=True)\n",
        "\n",
        "    df[\"Year\"] = df[\"report_name\"].str.extract(r\"(\\d{4})\")\n",
        "    df[\"Year\"] = df[\"Year\"].fillna(\"Unknown\")\n",
        "\n",
        "\n",
        "    # Calculate Heatmap by Percent\n",
        "    year_totals = df.groupby(\"Year\")[\"count\"].sum().to_dict()\n",
        "    df[\"percent\"] = df.apply(lambda row: (row[\"count\"] / year_totals[row[\"Year\"]]) * 100\n",
        "                             if row[\"Year\"] in year_totals else 0, axis=1)\n",
        "\n",
        "    # Create Heatmap\n",
        "    heatmap_all = df.pivot_table(\n",
        "        index=\"keyword\", columns=\"Year\", values=\"percent\",\n",
        "        aggfunc=\"sum\", fill_value=0\n",
        "    )\n",
        "\n",
        "    fig_all = px.imshow(\n",
        "        heatmap_all,\n",
        "        text_auto=\".1f\",\n",
        "        aspect=\"auto\",\n",
        "        color_continuous_scale=\"tealrose\",\n",
        "        labels=dict(x=\"Year\", y=\"Keyword\", color=\"Percent\")\n",
        "    )\n",
        "    fig_all.update_layout(title=\"Heatmap of Keywords by Year (in %)\")\n",
        "\n",
        "    fig_all.write_html(os.path.join(Heatmap_path, \"heatmap_all_reports.html\"))\n",
        "    fig_all.show()\n",
        "\n",
        "\n",
        "    # Create Heatmap year by year\n",
        "    for year, sub_df in df.groupby(\"Year\"):\n",
        "        year_heatmap = sub_df.pivot_table(\n",
        "            index=\"keyword\", columns=\"Year\", values=\"percent\",\n",
        "            aggfunc=\"sum\", fill_value=0\n",
        "        )\n",
        "\n",
        "        if not year_heatmap.empty:\n",
        "            fig_year = px.imshow(\n",
        "                year_heatmap,\n",
        "                text_auto=\".1f\",\n",
        "                aspect=\"auto\",\n",
        "                color_continuous_scale=\"Mint\",\n",
        "                labels=dict(x=\"Year\", y=\"Keyword\", color=\"Percent\")\n",
        "            )\n",
        "            fig_year.update_layout(title=f\"Heatmap for Year {year} (in %)\")\n",
        "\n",
        "            fig_year.write_html(os.path.join(Heatmap_path, f\"heatmap_{year}.html\"))\n",
        "            fig_year.show()\n",
        "\n",
        "    print(\" Heatmap کلی و سال به سال با درصد ساخته شد .\")\n",
        "    return df"
      ],
      "metadata": {
        "id": "MHsiAwdF5WjK"
      },
      "execution_count": 4,
      "outputs": []
    },
    {
      "cell_type": "code",
      "source": [
        "sustain_Dic = pd.read_excel(\"/content/drive/MyDrive/sustainability_table/PivotReport/keywords.xlsx\")\n",
        "keywords = sustain_Dic[\"keyword\"].dropna().str.strip().tolist()\n",
        "\n",
        "Heatmap_path = \"/content/drive/MyDrive/sustainability_table/Heatmap\"\n",
        "os.makedirs(Heatmap_path, exist_ok=True)"
      ],
      "metadata": {
        "id": "1Vyw1mpi5YNA"
      },
      "execution_count": 5,
      "outputs": []
    },
    {
      "cell_type": "code",
      "source": [
        "df_result = process_heatmap_tagged(uploaded_Texts, keywords, Heatmap_path)\n"
      ],
      "metadata": {
        "collapsed": true,
        "id": "hUgzjf1a5ZtA"
      },
      "execution_count": null,
      "outputs": []
    }
  ]
}